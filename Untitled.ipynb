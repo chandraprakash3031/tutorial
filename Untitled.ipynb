{
 "cells": [
  {
   "cell_type": "markdown",
   "id": "ef13d9f7-d246-4863-98a3-93a07105c795",
   "metadata": {},
   "source": [
    "# My Jupyter Notebook on Watson Studio"
   ]
  },
  {
   "cell_type": "markdown",
   "id": "2c3705f2-0f56-456c-af1d-cbed69c3d978",
   "metadata": {},
   "source": [
    "**Chandra Prakash"
   ]
  },
  {
   "cell_type": "markdown",
   "id": "205b216f-7add-4620-a111-a16956757214",
   "metadata": {},
   "source": [
    "Automobile Engineer"
   ]
  },
  {
   "cell_type": "markdown",
   "id": "f8d0ef95-4e89-4347-9b7d-33c602a08fc7",
   "metadata": {},
   "source": [
    "*I am interested in data science because i want to switch my career"
   ]
  },
  {
   "cell_type": "markdown",
   "id": "f2b9099c-48ab-4f34-87ae-6b4bb7e029f3",
   "metadata": {},
   "source": [
    "### Adding two numbers"
   ]
  },
  {
   "cell_type": "code",
   "execution_count": 1,
   "id": "f9b1ef08-cb98-4d2e-a85d-b31ddf517f51",
   "metadata": {},
   "outputs": [
    {
     "data": {
      "text/plain": [
       "4"
      ]
     },
     "execution_count": 1,
     "metadata": {},
     "output_type": "execute_result"
    }
   ],
   "source": [
    "2+2"
   ]
  },
  {
   "cell_type": "markdown",
   "id": "78526f6e-b95f-4d8f-bd9f-ad52551f80cf",
   "metadata": {},
   "source": [
    "* Item 1\n",
    "* Item 2"
   ]
  },
  {
   "cell_type": "markdown",
   "id": "45a04002-a4d5-4674-899f-1ec7737b46fa",
   "metadata": {},
   "source": [
    "[https://www.google.com]"
   ]
  },
  {
   "cell_type": "markdown",
   "id": "a663cd10-4f5e-4b4a-9514-9800de68285c",
   "metadata": {},
   "source": [
    "~~Hello"
   ]
  },
  {
   "cell_type": "code",
   "execution_count": null,
   "id": "94dedee2-d3c3-4f11-9fb3-25e62c18d6f3",
   "metadata": {},
   "outputs": [],
   "source": []
  }
 ],
 "metadata": {
  "kernelspec": {
   "display_name": "Python",
   "language": "python",
   "name": "conda-env-python-py"
  },
  "language_info": {
   "codemirror_mode": {
    "name": "ipython",
    "version": 3
   },
   "file_extension": ".py",
   "mimetype": "text/x-python",
   "name": "python",
   "nbconvert_exporter": "python",
   "pygments_lexer": "ipython3",
   "version": "3.7.12"
  }
 },
 "nbformat": 4,
 "nbformat_minor": 5
}
